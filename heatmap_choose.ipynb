{
 "cells": [
  {
   "cell_type": "code",
   "execution_count": 1,
   "metadata": {},
   "outputs": [],
   "source": [
    "import gmaps\n",
    "import gmaps.datasets\n",
    "import ipywidgets as widgets\n",
    "from IPython.display import display"
   ]
  },
  {
   "cell_type": "code",
   "execution_count": 2,
   "metadata": {},
   "outputs": [],
   "source": [
    "class Outlet(object):\n",
    "    def __init__(self, df):\n",
    "        self._df = df\n",
    "        self._symbol_layer = None\n",
    "        \n",
    "        self._starbucks_layer = self._create_symbols('starbucks','rgba(150,0,0,0.5)')\n",
    "        self._kfc_layer = self._create_symbols('kfc','rgba(0,150,0,0.2)')\n",
    "        \n",
    "        title_widget = widgets.HTML(\n",
    "            '<h3>KFC and Starbucks locations<h3>'\n",
    "            '<h4>Data from <a href=\"http://ratings.food.gov.uk\">UK Food Standards Agency</a></h4>'\n",
    "        )\n",
    "        \n",
    "        controls = self._render_controls(True, True)\n",
    "        map_figure = self._render_map(True, True)\n",
    "        self._container = widgets.VBox(\n",
    "            [title_widget, controls, map_figure])\n",
    "    \n",
    "    def render(self):\n",
    "        display(self._container)\n",
    "    \n",
    "    def _render_map(self, initial_star, initial_kfc):\n",
    "        fig = gmaps.figure()\n",
    "        symbols = self._generate_symbols(True, True)\n",
    "        self._symbol_layer = gmaps.Markers(markers = symbols)\n",
    "        fig.add_layer(self._symbol_layer)\n",
    "        return fig\n",
    "        \n",
    "    def _render_controls(self, initial_star, initial_kfc):\n",
    "        self._star_check = widgets.Checkbox(value=initial_star, description='Starbucks')\n",
    "        self._kfc_check = widgets.Checkbox(value=initial_kfc, description='KFC')\n",
    "        \n",
    "        self._star_check.observe(self._on_controls_change, names='value')\n",
    "        self._kfc_check.observe(self._on_controls_change, names='value')\n",
    "        \n",
    "        controls = widgets.VBox([self._star_check,self._kfc_check])\n",
    "        return controls\n",
    "    \n",
    "    def _on_controls_change(self, obj):\n",
    "        include_star = self._star_check.value\n",
    "        include_kfc = self._kfc_check.value\n",
    "        symbols = self._generate_symbols(include_star, include_kfc)\n",
    "        self._symbol_layer.markers = symbols\n",
    "        \n",
    "    def _generate_symbols(self, include_star, include_kfc):\n",
    "        symbols = []\n",
    "        if include_star:\n",
    "            symbols.extend(self._starbucks_layer)\n",
    "        if include_kfc:\n",
    "            symbols.extend(self._kfc_layer)\n",
    "        \n",
    "        return symbols\n",
    "    \n",
    "    def _create_symbols(self, chain,colour):\n",
    "        chain_df = self._df[self._df['chain_name']==chain]\n",
    "        symbols = [\n",
    "            gmaps.Symbol(\n",
    "                location=(latitude,longitude),\n",
    "                stroke_color = colour,\n",
    "                fill_color = colour,\n",
    "                scale = 2\n",
    "            )\n",
    "            for latitude,longitude in zip(chain_df['latitude'],chain_df['longitude'])\n",
    "        ]\n",
    "        return symbols"
   ]
  },
  {
   "cell_type": "code",
   "execution_count": 3,
   "metadata": {},
   "outputs": [
    {
     "data": {
      "application/vnd.jupyter.widget-view+json": {
       "model_id": "70a727ba90d14710bff13608d2bda845",
       "version_major": 2,
       "version_minor": 0
      },
      "text/plain": [
       "VBox(children=(HTML(value='<h3>KFC and Starbucks locations<h3><h4>Data from <a href=\"http://ratings.food.gov.u…"
      ]
     },
     "metadata": {},
     "output_type": "display_data"
    }
   ],
   "source": [
    "df = gmaps.datasets.load_dataset_as_df('starbucks_kfc_uk')\n",
    "Outlet(df).render()"
   ]
  }
 ],
 "metadata": {
  "kernelspec": {
   "display_name": "Python 3.7.5 64-bit",
   "language": "python",
   "name": "python37564bit800a67985baa4ccdac5a6f1d63636355"
  },
  "language_info": {
   "codemirror_mode": {
    "name": "ipython",
    "version": 3
   },
   "file_extension": ".py",
   "mimetype": "text/x-python",
   "name": "python",
   "nbconvert_exporter": "python",
   "pygments_lexer": "ipython3",
   "version": "3.7.5"
  }
 },
 "nbformat": 4,
 "nbformat_minor": 4
}
